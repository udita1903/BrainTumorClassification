{
 "cells": [
  {
   "cell_type": "code",
   "execution_count": 1,
   "metadata": {},
   "outputs": [],
   "source": [
    "import os"
   ]
  },
  {
   "cell_type": "code",
   "execution_count": 2,
   "metadata": {},
   "outputs": [
    {
     "data": {
      "text/plain": [
       "'/Users/udita19/Desktop/Projects/BrainTumor/BrainTumorClassification/research'"
      ]
     },
     "execution_count": 2,
     "metadata": {},
     "output_type": "execute_result"
    }
   ],
   "source": [
    "%pwd"
   ]
  },
  {
   "cell_type": "code",
   "execution_count": 3,
   "metadata": {},
   "outputs": [],
   "source": [
    "os.chdir(\"../\")\n"
   ]
  },
  {
   "cell_type": "code",
   "execution_count": 4,
   "metadata": {},
   "outputs": [
    {
     "data": {
      "text/plain": [
       "'/Users/udita19/Desktop/Projects/BrainTumor/BrainTumorClassification'"
      ]
     },
     "execution_count": 4,
     "metadata": {},
     "output_type": "execute_result"
    }
   ],
   "source": [
    "%pwd"
   ]
  },
  {
   "cell_type": "code",
   "execution_count": 5,
   "metadata": {},
   "outputs": [],
   "source": [
    "from dataclasses import dataclass \n",
    "from pathlib import Path \n",
    "\n",
    "@dataclass(frozen=True)\n",
    "class DataIngestionConfig:\n",
    "    root_dir: Path\n",
    "    non_tumor_source_URL: str\n",
    "    golima_source_URL: str\n",
    "\n",
    "    non_tumor_local_file: Path\n",
    "    golima_local_file: Path\n",
    "    unzip_dir: Path\n",
    "    "
   ]
  },
  {
   "cell_type": "code",
   "execution_count": 6,
   "metadata": {},
   "outputs": [],
   "source": [
    "import sys\n",
    "sys.path.append('/Users/udita19/Desktop/Projects/BrainTumor/BrainTumorClassification/src')\n",
    "\n",
    "\n",
    "from TumorClassifier.constants import*\n",
    "from TumorClassifier.utils.common import read_yaml, create_directories"
   ]
  },
  {
   "cell_type": "code",
   "execution_count": 7,
   "metadata": {},
   "outputs": [],
   "source": [
    "class ConfigurationManager:\n",
    "    def __init__(\n",
    "            self,\n",
    "            config_filepath = CONFIG_FILE_PATH,\n",
    "            params_filepath = PARAMS_FILE_PATH) :\n",
    "        self.config = read_yaml(config_filepath)\n",
    "        self.params = read_yaml(params_filepath)\n",
    "\n",
    "        create_directories([self.config.artifact_root])\n",
    "\n",
    "    def get_data_ingestion_config(self) -> DataIngestionConfig :\n",
    "        config = self.config.data_ingestion\n",
    "        create_directories([config.root_dir])\n",
    "\n",
    "        data_ingestion_config = DataIngestionConfig(\n",
    "        root_dir = config.root_dir,\n",
    "        non_tumor_source_URL = config.non_tumor_source_URL,\n",
    "        golima_source_URL = config.golima_source_URL,\n",
    "        non_tumor_local_file = config.non_tumor_local_file,\n",
    "        golima_local_file = config.golima_local_file,\n",
    "        unzip_dir = config.unzip_dir\n",
    "        )\n",
    "\n",
    "        return data_ingestion_config\n",
    "\n",
    "\n",
    "    "
   ]
  },
  {
   "cell_type": "code",
   "execution_count": 8,
   "metadata": {},
   "outputs": [],
   "source": [
    "import os \n",
    "import urllib.request as request\n",
    "import zipfile \n",
    "from TumorClassifier import logger \n",
    "from TumorClassifier.utils.common import get_size\n"
   ]
  },
  {
   "cell_type": "code",
   "execution_count": 13,
   "metadata": {},
   "outputs": [],
   "source": [
    "class DataIngestion:\n",
    "    def __init__(self, config: DataIngestionConfig):\n",
    "        self.config = config\n",
    "\n",
    "\n",
    "\n",
    "\n",
    "    def download_file(self):\n",
    "        if not os.path.exists(self.config.non_tumor_local_file):\n",
    "            filename, headers = request.urlretrieve(\n",
    "                self.config.non_tumor_source_URL, \n",
    "                self.config.non_tumor_local_file\n",
    "            )\n",
    "            logger.info(f\"{filename} download! with following info: \\n{headers}\")\n",
    "        else:\n",
    "            logger.info(f\"File already exists of size : {get_size(Path(self.config.non_tumor_local_file))}\")\n",
    "\n",
    "        if not os.path.exists(self.config.golima_local_file):\n",
    "            filename, headers = request.urlretrieve(\n",
    "                self.config.golima_source_URL,\n",
    "                self.config.golima_local_file\n",
    "            )\n",
    "            logger.info(f\"{filename} download! with following info: \\n{headers}\")\n",
    "        else:\n",
    "               logger.info(f\"File already exists of size : {get_size(Path(self.config.golima_local_file))}\")\n",
    "\n",
    "\n",
    "\n",
    "\n",
    "\n",
    "    def extract_zip_file(self):\n",
    "        unzip_path = self.config.unzip_dir\n",
    "        os.makedirs(unzip_path , exist_ok = True)\n",
    "\n",
    "        with zipfile.ZipFile(self.config.golima_local_file, 'r') as zip_ref:\n",
    "            zip_ref.extractall(unzip_path)\n",
    "        with zipfile.ZipFile(self.config.non_tumor_local_file, 'r') as zip_ref:\n",
    "            zip_ref.extractall(unzip_path)\n"
   ]
  },
  {
   "cell_type": "code",
   "execution_count": 14,
   "metadata": {},
   "outputs": [
    {
     "name": "stdout",
     "output_type": "stream",
     "text": [
      "[2024-02-28 23:01:03,380: INFO: common: yaml file: config/config.yaml loaded successfully]\n",
      "[2024-02-28 23:01:03,381: INFO: common: yaml file: params.yaml loaded successfully]\n",
      "[2024-02-28 23:01:03,382: INFO: common: created directory at: artifacts]\n",
      "[2024-02-28 23:01:03,382: INFO: common: created directory at: artifacts/data_ingestion]\n",
      "[2024-02-28 23:01:03,383: INFO: 1497186472: File already exists of size : ~ 23151 KB]\n",
      "[2024-02-28 23:01:09,648: INFO: 1497186472: artifacts/data_ingestion/golima.zip download! with following info: \n",
      "Connection: close\n",
      "Content-Length: 24783689\n",
      "Cache-Control: max-age=300\n",
      "Content-Security-Policy: default-src 'none'; style-src 'unsafe-inline'; sandbox\n",
      "Content-Type: application/zip\n",
      "ETag: \"3dc6acdfe08248a5599ed2454e93f024d0b9be3742ac427ec0513ff6b32adc4f\"\n",
      "Strict-Transport-Security: max-age=31536000\n",
      "X-Content-Type-Options: nosniff\n",
      "X-Frame-Options: deny\n",
      "X-XSS-Protection: 1; mode=block\n",
      "X-GitHub-Request-Id: 3560:20882F:559200:6E7F6B:65DF6DD7\n",
      "Accept-Ranges: bytes\n",
      "Date: Wed, 28 Feb 2024 17:31:08 GMT\n",
      "Via: 1.1 varnish\n",
      "X-Served-By: cache-maa10248-MAA\n",
      "X-Cache: MISS\n",
      "X-Cache-Hits: 0\n",
      "X-Timer: S1709141464.923877,VS0,VE5028\n",
      "Vary: Authorization,Accept-Encoding,Origin\n",
      "Access-Control-Allow-Origin: *\n",
      "Cross-Origin-Resource-Policy: cross-origin\n",
      "X-Fastly-Request-ID: 67f483cba5f75e79882001b93565e2990cae1643\n",
      "Expires: Wed, 28 Feb 2024 17:36:08 GMT\n",
      "Source-Age: 5\n",
      "\n",
      "]\n"
     ]
    }
   ],
   "source": [
    "try :\n",
    "    config = ConfigurationManager()\n",
    "    data_ingestion_config = config.get_data_ingestion_config()\n",
    "    data_ingestion = DataIngestion(config = data_ingestion_config)\n",
    "    data_ingestion.download_file()\n",
    "    data_ingestion.extract_zip_file()\n",
    "    \n",
    "except Exception as e:\n",
    "    raise e"
   ]
  },
  {
   "cell_type": "code",
   "execution_count": null,
   "metadata": {},
   "outputs": [],
   "source": []
  },
  {
   "cell_type": "code",
   "execution_count": null,
   "metadata": {},
   "outputs": [],
   "source": []
  }
 ],
 "metadata": {
  "kernelspec": {
   "display_name": "Python 3",
   "language": "python",
   "name": "python3"
  },
  "language_info": {
   "codemirror_mode": {
    "name": "ipython",
    "version": 3
   },
   "file_extension": ".py",
   "mimetype": "text/x-python",
   "name": "python",
   "nbconvert_exporter": "python",
   "pygments_lexer": "ipython3",
   "version": "3.11.4"
  }
 },
 "nbformat": 4,
 "nbformat_minor": 2
}
